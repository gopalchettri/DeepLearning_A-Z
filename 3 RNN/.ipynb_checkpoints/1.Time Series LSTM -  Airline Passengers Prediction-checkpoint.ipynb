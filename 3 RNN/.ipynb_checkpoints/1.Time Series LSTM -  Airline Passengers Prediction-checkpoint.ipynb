{
 "cells": [
  {
   "cell_type": "markdown",
   "id": "c41bdb04",
   "metadata": {},
   "source": [
    "### Airline Passengers Prediction - The Time Series Prediciton with LSTM "
   ]
  },
  {
   "cell_type": "markdown",
   "id": "710f6556",
   "metadata": {},
   "source": [
    "#### LSTM for international airline passengers problem with regression framing"
   ]
  },
  {
   "cell_type": "code",
   "execution_count": 1,
   "id": "3f5e4d6c",
   "metadata": {},
   "outputs": [
    {
     "name": "stdout",
     "output_type": "stream",
     "text": [
      "Num GPUs Available:  1\n"
     ]
    }
   ],
   "source": [
    "# importing required libraries\n",
    "\n",
    "import numpy as np\n",
    "import matplotlib.pyplot as plt\n",
    "import pandas as pd\n",
    "import math\n",
    "\n",
    "import tensorflow as tf\n",
    "tf.config.list_physical_devices('GPU')\n",
    "\n",
    "from tensorflow.keras.models import Sequential\n",
    "from tensorflow.keras.layers import Dense\n",
    "from tensorflow.keras.layers import LSTM\n",
    "\n",
    "from sklearn.preprocessing import MinMaxScaler\n",
    "from sklearn.metrics import mean_squared_error\n",
    "\n",
    "\n",
    "# fix random seed for reproducibility\n",
    "np.random.seed(7)\n",
    "\n",
    "print(\"Num GPUs Available: \", len(tf.config.list_physical_devices('GPU')))"
   ]
  },
  {
   "cell_type": "code",
   "execution_count": 2,
   "id": "0f0b78b1",
   "metadata": {},
   "outputs": [],
   "source": [
    "# loading the dataset\n",
    "\n",
    "dataset_path = 'C:/DevelopmentPlayground/Datasets/international-airline-passengers.csv'\n",
    "\n",
    "dataframe = pd.read_csv(dataset_path, engine='python', skipfooter=3)"
   ]
  },
  {
   "cell_type": "code",
   "execution_count": 3,
   "id": "52c4d954",
   "metadata": {},
   "outputs": [
    {
     "data": {
      "text/html": [
       "<div>\n",
       "<style scoped>\n",
       "    .dataframe tbody tr th:only-of-type {\n",
       "        vertical-align: middle;\n",
       "    }\n",
       "\n",
       "    .dataframe tbody tr th {\n",
       "        vertical-align: top;\n",
       "    }\n",
       "\n",
       "    .dataframe thead th {\n",
       "        text-align: right;\n",
       "    }\n",
       "</style>\n",
       "<table border=\"1\" class=\"dataframe\">\n",
       "  <thead>\n",
       "    <tr style=\"text-align: right;\">\n",
       "      <th></th>\n",
       "      <th>Month</th>\n",
       "      <th>Passengers</th>\n",
       "    </tr>\n",
       "  </thead>\n",
       "  <tbody>\n",
       "    <tr>\n",
       "      <th>0</th>\n",
       "      <td>1949-01</td>\n",
       "      <td>112</td>\n",
       "    </tr>\n",
       "    <tr>\n",
       "      <th>1</th>\n",
       "      <td>1949-02</td>\n",
       "      <td>118</td>\n",
       "    </tr>\n",
       "    <tr>\n",
       "      <th>2</th>\n",
       "      <td>1949-03</td>\n",
       "      <td>132</td>\n",
       "    </tr>\n",
       "    <tr>\n",
       "      <th>3</th>\n",
       "      <td>1949-04</td>\n",
       "      <td>129</td>\n",
       "    </tr>\n",
       "    <tr>\n",
       "      <th>4</th>\n",
       "      <td>1949-05</td>\n",
       "      <td>121</td>\n",
       "    </tr>\n",
       "  </tbody>\n",
       "</table>\n",
       "</div>"
      ],
      "text/plain": [
       "     Month  Passengers\n",
       "0  1949-01         112\n",
       "1  1949-02         118\n",
       "2  1949-03         132\n",
       "3  1949-04         129\n",
       "4  1949-05         121"
      ]
     },
     "execution_count": 3,
     "metadata": {},
     "output_type": "execute_result"
    }
   ],
   "source": [
    "dataframe.head()"
   ]
  },
  {
   "cell_type": "code",
   "execution_count": 4,
   "id": "ee7dbb86",
   "metadata": {},
   "outputs": [
    {
     "data": {
      "text/html": [
       "<div>\n",
       "<style scoped>\n",
       "    .dataframe tbody tr th:only-of-type {\n",
       "        vertical-align: middle;\n",
       "    }\n",
       "\n",
       "    .dataframe tbody tr th {\n",
       "        vertical-align: top;\n",
       "    }\n",
       "\n",
       "    .dataframe thead th {\n",
       "        text-align: right;\n",
       "    }\n",
       "</style>\n",
       "<table border=\"1\" class=\"dataframe\">\n",
       "  <thead>\n",
       "    <tr style=\"text-align: right;\">\n",
       "      <th></th>\n",
       "      <th>Month</th>\n",
       "      <th>Passengers</th>\n",
       "    </tr>\n",
       "  </thead>\n",
       "  <tbody>\n",
       "    <tr>\n",
       "      <th>138</th>\n",
       "      <td>1960-07</td>\n",
       "      <td>622</td>\n",
       "    </tr>\n",
       "    <tr>\n",
       "      <th>139</th>\n",
       "      <td>1960-08</td>\n",
       "      <td>606</td>\n",
       "    </tr>\n",
       "    <tr>\n",
       "      <th>140</th>\n",
       "      <td>1960-09</td>\n",
       "      <td>508</td>\n",
       "    </tr>\n",
       "    <tr>\n",
       "      <th>141</th>\n",
       "      <td>1960-10</td>\n",
       "      <td>461</td>\n",
       "    </tr>\n",
       "    <tr>\n",
       "      <th>142</th>\n",
       "      <td>1960-11</td>\n",
       "      <td>390</td>\n",
       "    </tr>\n",
       "  </tbody>\n",
       "</table>\n",
       "</div>"
      ],
      "text/plain": [
       "       Month  Passengers\n",
       "138  1960-07         622\n",
       "139  1960-08         606\n",
       "140  1960-09         508\n",
       "141  1960-10         461\n",
       "142  1960-11         390"
      ]
     },
     "execution_count": 4,
     "metadata": {},
     "output_type": "execute_result"
    }
   ],
   "source": [
    "dataframe.tail()"
   ]
  },
  {
   "cell_type": "code",
   "execution_count": 5,
   "id": "59fd209a",
   "metadata": {},
   "outputs": [
    {
     "data": {
      "text/plain": [
       "array([[112],\n",
       "       [118],\n",
       "       [132],\n",
       "       [129],\n",
       "       [121]], dtype=int64)"
      ]
     },
     "execution_count": 5,
     "metadata": {},
     "output_type": "execute_result"
    }
   ],
   "source": [
    "# Reshaping the data either using array.reshape(-1, 1) if the data has a single feature\n",
    "# or  array.reshape(1, -1) if it contains a single sample\n",
    "dataset = dataframe[\"Passengers\"]\n",
    "\n",
    "dataset = np.array(dataset).reshape(-1, 1)\n",
    "\n",
    "dataset[:5] # selecting ist 5 rows"
   ]
  },
  {
   "cell_type": "code",
   "execution_count": 6,
   "id": "8df797de",
   "metadata": {},
   "outputs": [
    {
     "data": {
      "text/plain": [
       "array([[112.],\n",
       "       [118.],\n",
       "       [132.],\n",
       "       [129.],\n",
       "       [121.]], dtype=float32)"
      ]
     },
     "execution_count": 6,
     "metadata": {},
     "output_type": "execute_result"
    }
   ],
   "source": [
    "# converting int to float\n",
    "\n",
    "dataset = dataset.astype('float32')\n",
    "\n",
    "dataset[:5] # selecting ist 5 rows"
   ]
  },
  {
   "cell_type": "code",
   "execution_count": 7,
   "id": "aeb0f5b9",
   "metadata": {},
   "outputs": [],
   "source": [
    "# normalize the dataset - in ranage of (0, 1)\n",
    "\n",
    "scaler = MinMaxScaler(feature_range=(0, 1))\n",
    "dataset = scaler.fit_transform(dataset)"
   ]
  },
  {
   "cell_type": "code",
   "execution_count": 8,
   "id": "471cd5eb",
   "metadata": {},
   "outputs": [],
   "source": [
    "# Splitting the dataset ito train and test set\n",
    "\n",
    "train_size = int(len(dataset) * 0.67)\n",
    "test_size = len(dataset) - train_size\n",
    "\n",
    "train, test = dataset[0:train_size, :], dataset[train_size: len(dataset), :]"
   ]
  },
  {
   "cell_type": "code",
   "execution_count": 9,
   "id": "136b9941",
   "metadata": {},
   "outputs": [
    {
     "name": "stdout",
     "output_type": "stream",
     "text": [
      "train : 95\n",
      "test : 48\n"
     ]
    }
   ],
   "source": [
    "print('train :', len(train))\n",
    "print('test :', len(test))"
   ]
  },
  {
   "cell_type": "code",
   "execution_count": 10,
   "id": "7a1750a0",
   "metadata": {},
   "outputs": [],
   "source": [
    "# convert an array of values into a dataset matrix\n",
    "def create_dataset(dataset, look_back=1):\n",
    "    dataX, dataY = [], []\n",
    "    for i in range(len(dataset) - look_back - 1):\n",
    "        a = dataset[i: (i + look_back), 0]\n",
    "        dataX.append(a)\n",
    "        dataY.append(dataset[i + look_back, 0])\n",
    "        \n",
    "    return np.array(dataX), np.array(dataY)"
   ]
  },
  {
   "cell_type": "code",
   "execution_count": 11,
   "id": "fa2f6de9",
   "metadata": {},
   "outputs": [],
   "source": [
    "# reshape into X=t and y= t+1\n",
    "\n",
    "look_back = 1\n",
    "\n",
    "train_X, train_Y = create_dataset(train, look_back)\n",
    "test_X, test_Y = create_dataset(test, look_back)\n",
    "\n",
    "# The LSTM network expects the input data (X) to be provided with a specific array structure in\n",
    "# the form of: [samples, time steps, features].\n",
    "\n",
    "# reshape input to be [samples, time steps, features]\n",
    "\n",
    "train_X = np.reshape(train_X, (train_X.shape[0], 1, train_X.shape[1]))\n",
    "test_X = np.reshape(test_X, (test_X.shape[0], 1, test_X.shape[1]))\n"
   ]
  },
  {
   "cell_type": "code",
   "execution_count": 12,
   "id": "81e4bdfc",
   "metadata": {},
   "outputs": [
    {
     "name": "stdout",
     "output_type": "stream",
     "text": [
      "train_X : [[[0.01544401]]\n",
      "\n",
      " [[0.02702703]]\n",
      "\n",
      " [[0.05405405]]\n",
      "\n",
      " [[0.04826255]]\n",
      "\n",
      " [[0.03281853]]]\n",
      "test_X : [[[0.3899614 ]]\n",
      "\n",
      " [[0.4073359 ]]\n",
      "\n",
      " [[0.3803089 ]]\n",
      "\n",
      " [[0.48648646]]\n",
      "\n",
      " [[0.47104248]]]\n"
     ]
    }
   ],
   "source": [
    "print('train_X :', train_X[0:5]) # checking Ist 5 rows\n",
    "print('test_X :', test_X[0:5]) # checking Ist 5 rows"
   ]
  },
  {
   "cell_type": "code",
   "execution_count": 13,
   "id": "5e17b8f8",
   "metadata": {},
   "outputs": [],
   "source": [
    "# create and fit the one to one LSTM network\n",
    "\n",
    "# LSTM network has a visible layer with 1 input i.e. input_dim=look_back, \n",
    "# a hidden layer with 4 LSTM blocks or Neurons \n",
    "# with default 'tanh' activation and 'sigmoid' being default recurrent_activation\n",
    "# a fully connected layer (Dense) with single neuron.\n",
    "\n",
    "model = Sequential()\n",
    "model.add(LSTM(units=4, input_dim= look_back, activation='tanh', recurrent_activation='sigmoid')) \n",
    "model.add(Dense(1))\n",
    "model.compile(loss='mean_squared_error', optimizer='rmsprop')"
   ]
  },
  {
   "cell_type": "code",
   "execution_count": 14,
   "id": "f219bea7",
   "metadata": {},
   "outputs": [
    {
     "name": "stdout",
     "output_type": "stream",
     "text": [
      "Epoch 1/100\n",
      "93/93 [==============================] - 4s 5ms/step - loss: 0.0444\n",
      "Epoch 2/100\n",
      "93/93 [==============================] - 1s 6ms/step - loss: 0.0253\n",
      "Epoch 3/100\n",
      "93/93 [==============================] - 1s 6ms/step - loss: 0.0195\n",
      "Epoch 4/100\n",
      "93/93 [==============================] - 1s 5ms/step - loss: 0.0178\n",
      "Epoch 5/100\n",
      "93/93 [==============================] - 1s 6ms/step - loss: 0.0170\n",
      "Epoch 6/100\n",
      "93/93 [==============================] - 1s 6ms/step - loss: 0.0162\n",
      "Epoch 7/100\n",
      "93/93 [==============================] - 1s 6ms/step - loss: 0.0153\n",
      "Epoch 8/100\n",
      "93/93 [==============================] - 1s 6ms/step - loss: 0.0144\n",
      "Epoch 9/100\n",
      "93/93 [==============================] - 1s 5ms/step - loss: 0.0135\n",
      "Epoch 10/100\n",
      "93/93 [==============================] - 1s 6ms/step - loss: 0.0125\n",
      "Epoch 11/100\n",
      "93/93 [==============================] - 1s 6ms/step - loss: 0.0115\n",
      "Epoch 12/100\n",
      "93/93 [==============================] - 1s 6ms/step - loss: 0.0105\n",
      "Epoch 13/100\n",
      "93/93 [==============================] - 1s 6ms/step - loss: 0.0093\n",
      "Epoch 14/100\n",
      "93/93 [==============================] - 1s 6ms/step - loss: 0.0083\n",
      "Epoch 15/100\n",
      "93/93 [==============================] - 1s 5ms/step - loss: 0.0071\n",
      "Epoch 16/100\n",
      "93/93 [==============================] - 0s 5ms/step - loss: 0.0060\n",
      "Epoch 17/100\n",
      "93/93 [==============================] - 1s 6ms/step - loss: 0.0050\n",
      "Epoch 18/100\n",
      "93/93 [==============================] - 1s 6ms/step - loss: 0.0043\n",
      "Epoch 19/100\n",
      "93/93 [==============================] - 1s 6ms/step - loss: 0.0035\n",
      "Epoch 20/100\n",
      "93/93 [==============================] - 1s 5ms/step - loss: 0.0030\n",
      "Epoch 21/100\n",
      "93/93 [==============================] - 1s 6ms/step - loss: 0.0026\n",
      "Epoch 22/100\n",
      "93/93 [==============================] - 1s 5ms/step - loss: 0.0023\n",
      "Epoch 23/100\n",
      "93/93 [==============================] - 1s 5ms/step - loss: 0.0022\n",
      "Epoch 24/100\n",
      "93/93 [==============================] - 0s 5ms/step - loss: 0.0021\n",
      "Epoch 25/100\n",
      "93/93 [==============================] - 1s 5ms/step - loss: 0.0021\n",
      "Epoch 26/100\n",
      "93/93 [==============================] - 1s 6ms/step - loss: 0.0020\n",
      "Epoch 27/100\n",
      "93/93 [==============================] - 1s 6ms/step - loss: 0.0021\n",
      "Epoch 28/100\n",
      "93/93 [==============================] - 1s 5ms/step - loss: 0.0020\n",
      "Epoch 29/100\n",
      "93/93 [==============================] - 1s 5ms/step - loss: 0.0020\n",
      "Epoch 30/100\n",
      "93/93 [==============================] - 1s 6ms/step - loss: 0.0020\n",
      "Epoch 31/100\n",
      "93/93 [==============================] - 1s 5ms/step - loss: 0.0020\n",
      "Epoch 32/100\n",
      "93/93 [==============================] - 1s 6ms/step - loss: 0.0020\n",
      "Epoch 33/100\n",
      "93/93 [==============================] - 1s 6ms/step - loss: 0.0020\n",
      "Epoch 34/100\n",
      "93/93 [==============================] - 1s 6ms/step - loss: 0.0020\n",
      "Epoch 35/100\n",
      "93/93 [==============================] - 1s 6ms/step - loss: 0.0020\n",
      "Epoch 36/100\n",
      "93/93 [==============================] - 1s 6ms/step - loss: 0.0020\n",
      "Epoch 37/100\n",
      "93/93 [==============================] - 1s 6ms/step - loss: 0.0020\n",
      "Epoch 38/100\n",
      "93/93 [==============================] - 1s 6ms/step - loss: 0.0020\n",
      "Epoch 39/100\n",
      "93/93 [==============================] - 1s 6ms/step - loss: 0.0020\n",
      "Epoch 40/100\n",
      "93/93 [==============================] - 1s 6ms/step - loss: 0.0020\n",
      "Epoch 41/100\n",
      "93/93 [==============================] - 1s 6ms/step - loss: 0.0020\n",
      "Epoch 42/100\n",
      "93/93 [==============================] - 1s 5ms/step - loss: 0.0020\n",
      "Epoch 43/100\n",
      "93/93 [==============================] - 1s 6ms/step - loss: 0.0020\n",
      "Epoch 44/100\n",
      "93/93 [==============================] - 1s 5ms/step - loss: 0.0020\n",
      "Epoch 45/100\n",
      "93/93 [==============================] - 1s 5ms/step - loss: 0.0020\n",
      "Epoch 46/100\n",
      "93/93 [==============================] - 1s 6ms/step - loss: 0.0020\n",
      "Epoch 47/100\n",
      "93/93 [==============================] - 1s 6ms/step - loss: 0.0020\n",
      "Epoch 48/100\n",
      "93/93 [==============================] - 1s 5ms/step - loss: 0.0020\n",
      "Epoch 49/100\n",
      "93/93 [==============================] - 1s 5ms/step - loss: 0.0020\n",
      "Epoch 50/100\n",
      "93/93 [==============================] - 0s 5ms/step - loss: 0.0020\n",
      "Epoch 51/100\n",
      "93/93 [==============================] - 1s 5ms/step - loss: 0.0020\n",
      "Epoch 52/100\n",
      "93/93 [==============================] - 1s 6ms/step - loss: 0.0020\n",
      "Epoch 53/100\n",
      "93/93 [==============================] - 1s 5ms/step - loss: 0.0020\n",
      "Epoch 54/100\n",
      "93/93 [==============================] - 1s 6ms/step - loss: 0.0020\n",
      "Epoch 55/100\n",
      "93/93 [==============================] - 1s 6ms/step - loss: 0.0020\n",
      "Epoch 56/100\n",
      "93/93 [==============================] - 1s 5ms/step - loss: 0.0020\n",
      "Epoch 57/100\n",
      "93/93 [==============================] - 1s 5ms/step - loss: 0.0020\n",
      "Epoch 58/100\n",
      "93/93 [==============================] - 1s 6ms/step - loss: 0.0020\n",
      "Epoch 59/100\n",
      "93/93 [==============================] - 1s 5ms/step - loss: 0.0020\n",
      "Epoch 60/100\n",
      "93/93 [==============================] - 1s 6ms/step - loss: 0.0020\n",
      "Epoch 61/100\n",
      "93/93 [==============================] - 0s 5ms/step - loss: 0.0020\n",
      "Epoch 62/100\n",
      "93/93 [==============================] - 1s 6ms/step - loss: 0.0020\n",
      "Epoch 63/100\n",
      "93/93 [==============================] - 0s 5ms/step - loss: 0.0020\n",
      "Epoch 64/100\n",
      "93/93 [==============================] - 1s 6ms/step - loss: 0.0020\n",
      "Epoch 65/100\n",
      "93/93 [==============================] - 1s 6ms/step - loss: 0.0020\n",
      "Epoch 66/100\n",
      "93/93 [==============================] - 1s 6ms/step - loss: 0.0020\n",
      "Epoch 67/100\n",
      "93/93 [==============================] - 1s 6ms/step - loss: 0.0020\n",
      "Epoch 68/100\n",
      "93/93 [==============================] - 1s 6ms/step - loss: 0.0020\n",
      "Epoch 69/100\n",
      "93/93 [==============================] - 1s 6ms/step - loss: 0.0020\n",
      "Epoch 70/100\n",
      "93/93 [==============================] - 1s 6ms/step - loss: 0.0020\n",
      "Epoch 71/100\n",
      "93/93 [==============================] - 1s 6ms/step - loss: 0.0020\n",
      "Epoch 72/100\n",
      "93/93 [==============================] - 1s 6ms/step - loss: 0.0020\n",
      "Epoch 73/100\n",
      "93/93 [==============================] - 1s 5ms/step - loss: 0.0020\n",
      "Epoch 74/100\n",
      "93/93 [==============================] - 1s 6ms/step - loss: 0.0020\n",
      "Epoch 75/100\n",
      "93/93 [==============================] - 1s 6ms/step - loss: 0.0020\n",
      "Epoch 76/100\n",
      "93/93 [==============================] - 1s 6ms/step - loss: 0.0020\n",
      "Epoch 77/100\n",
      "93/93 [==============================] - 1s 6ms/step - loss: 0.0020\n",
      "Epoch 78/100\n",
      "93/93 [==============================] - 1s 5ms/step - loss: 0.0020\n",
      "Epoch 79/100\n",
      "93/93 [==============================] - 1s 6ms/step - loss: 0.0020\n",
      "Epoch 80/100\n",
      "93/93 [==============================] - 1s 6ms/step - loss: 0.0020\n",
      "Epoch 81/100\n",
      "93/93 [==============================] - 1s 6ms/step - loss: 0.0019\n",
      "Epoch 82/100\n",
      "93/93 [==============================] - 1s 6ms/step - loss: 0.0020\n",
      "Epoch 83/100\n",
      "93/93 [==============================] - 1s 6ms/step - loss: 0.0020\n",
      "Epoch 84/100\n",
      "93/93 [==============================] - 1s 6ms/step - loss: 0.0020\n",
      "Epoch 85/100\n",
      "93/93 [==============================] - 1s 6ms/step - loss: 0.0019\n",
      "Epoch 86/100\n",
      "93/93 [==============================] - 1s 6ms/step - loss: 0.0020\n",
      "Epoch 87/100\n",
      "93/93 [==============================] - 1s 6ms/step - loss: 0.0020\n",
      "Epoch 88/100\n",
      "93/93 [==============================] - 1s 6ms/step - loss: 0.0019\n",
      "Epoch 89/100\n",
      "93/93 [==============================] - 1s 6ms/step - loss: 0.0020\n",
      "Epoch 90/100\n",
      "93/93 [==============================] - 0s 5ms/step - loss: 0.0020\n",
      "Epoch 91/100\n",
      "93/93 [==============================] - 1s 6ms/step - loss: 0.0020\n",
      "Epoch 92/100\n",
      "93/93 [==============================] - 1s 5ms/step - loss: 0.0020\n",
      "Epoch 93/100\n",
      "93/93 [==============================] - 1s 5ms/step - loss: 0.0020\n",
      "Epoch 94/100\n",
      "93/93 [==============================] - 1s 6ms/step - loss: 0.0020\n",
      "Epoch 95/100\n",
      "93/93 [==============================] - 1s 5ms/step - loss: 0.0020\n",
      "Epoch 96/100\n",
      "93/93 [==============================] - 1s 6ms/step - loss: 0.0020\n",
      "Epoch 97/100\n",
      "93/93 [==============================] - 1s 5ms/step - loss: 0.0020\n",
      "Epoch 98/100\n",
      "93/93 [==============================] - 1s 5ms/step - loss: 0.0020\n",
      "Epoch 99/100\n",
      "93/93 [==============================] - 1s 6ms/step - loss: 0.0020\n",
      "Epoch 100/100\n",
      "93/93 [==============================] - 1s 6ms/step - loss: 0.0020\n",
      "Total time taken :  0:00:55.950060\n"
     ]
    }
   ],
   "source": [
    "# fit the model\n",
    "import datetime\n",
    "start = datetime.datetime.now()\n",
    "\n",
    "model.fit(train_X, train_Y, epochs=100, batch_size=1, verbose=1)\n",
    "\n",
    "stop = datetime.datetime.now()\n",
    "print(\"Total time taken : \", str(stop - start))"
   ]
  },
  {
   "cell_type": "code",
   "execution_count": 15,
   "id": "44218455",
   "metadata": {},
   "outputs": [],
   "source": [
    "# make predictions\n",
    "\n",
    "train_predict = model.predict(train_X)\n",
    "test_predict = model.predict(test_X)"
   ]
  },
  {
   "cell_type": "code",
   "execution_count": 16,
   "id": "eaf022e3",
   "metadata": {},
   "outputs": [],
   "source": [
    "# invert the prediction, because we have scaled the data using MinMaxScaler\n",
    "\n",
    "train_predict = scaler.inverse_transform(train_predict)\n",
    "\n",
    "train_Y = scaler.inverse_transform([train_Y])\n",
    "\n",
    "test_predict = scaler.inverse_transform(test_predict)\n",
    "\n",
    "test_Y = scaler.inverse_transform([test_Y])\n"
   ]
  },
  {
   "cell_type": "code",
   "execution_count": 17,
   "id": "967bd178",
   "metadata": {},
   "outputs": [
    {
     "name": "stdout",
     "output_type": "stream",
     "text": [
      "Train Score : 22.60 RMSE\n"
     ]
    }
   ],
   "source": [
    "# calculate the root mean squared error\n",
    "\n",
    "train_score = math.sqrt(mean_squared_error(train_Y[0], train_predict[:, 0]))\n",
    "\n",
    "print('Train Score : %.2f RMSE' %(train_score))"
   ]
  },
  {
   "cell_type": "code",
   "execution_count": 18,
   "id": "88da8e11",
   "metadata": {},
   "outputs": [
    {
     "name": "stdout",
     "output_type": "stream",
     "text": [
      "Test Score : 48.08 RMSE\n"
     ]
    }
   ],
   "source": [
    "test_score = math.sqrt(mean_squared_error(test_Y[0], test_predict[:, 0]))\n",
    "\n",
    "print('Test Score : %.2f RMSE' %(test_score))"
   ]
  },
  {
   "cell_type": "code",
   "execution_count": 19,
   "id": "ab212a38",
   "metadata": {},
   "outputs": [],
   "source": [
    "# shift train predictions for plotting\n",
    "\n",
    "trainPredictPlot = np.empty_like(dataset)\n",
    "trainPredictPlot[:, :] = np.nan\n",
    "trainPredictPlot[look_back:len(train_predict) + look_back, :] = train_predict"
   ]
  },
  {
   "cell_type": "code",
   "execution_count": 20,
   "id": "d6abb4c4",
   "metadata": {},
   "outputs": [],
   "source": [
    "# shift test predictions for plotting\n",
    "\n",
    "testPredictPlot = np.empty_like(dataset)\n",
    "testPredictPlot[:, :] = np.nan\n",
    "testPredictPlot[len(train_predict) + (look_back * 2) + 1:len(dataset) - 1, :] = test_predict"
   ]
  },
  {
   "cell_type": "code",
   "execution_count": 21,
   "id": "1cabaa5f",
   "metadata": {},
   "outputs": [
    {
     "data": {
      "image/png": "[encoded data removed]",
      "text/plain": [
       "<Figure size 432x288 with 1 Axes>"
      ]
     },
     "metadata": {
      "needs_background": "light"
     },
     "output_type": "display_data"
    }
   ],
   "source": [
    "# plot baseline and predictions\n",
    "\n",
    "plt.plot(scaler.inverse_transform(dataset))\n",
    "plt.plot(trainPredictPlot)\n",
    "plt.plot(testPredictPlot)\n",
    "plt.show()"
   ]
  },
  {
   "cell_type": "markdown",
   "id": "7ee6e065",
   "metadata": {},
   "source": [
    "<span> The model has an average error of 22.60 i.e., 23 passenges (in thousands) on training dataset </span>\n",
    "\n",
    "<span> The model has an average error of 48.08 i.e., 48 passenges (in thousands) on test dataset </span>"
   ]
  },
  {
   "cell_type": "code",
   "execution_count": null,
   "id": "614e1557",
   "metadata": {},
   "outputs": [],
   "source": []
  }
 ],
 "metadata": {
  "kernelspec": {
   "display_name": "tf-gpu-26",
   "language": "python",
   "name": "tf-gpu-26"
  },
  "language_info": {
   "codemirror_mode": {
    "name": "ipython",
    "version": 3
   },
   "file_extension": ".py",
   "mimetype": "text/x-python",
   "name": "python",
   "nbconvert_exporter": "python",
   "pygments_lexer": "ipython3",
   "version": "3.9.7"
  }
 },
 "nbformat": 4,
 "nbformat_minor": 5
}
