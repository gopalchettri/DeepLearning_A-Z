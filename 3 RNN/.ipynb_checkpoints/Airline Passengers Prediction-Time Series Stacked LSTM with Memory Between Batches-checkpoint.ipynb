{
 "cells": [
  {
   "cell_type": "markdown",
   "id": "c41bdb04",
   "metadata": {},
   "source": [
    "## Airline Passengers Prediction-Time Series Stacked LSTM with Memory Between Batches"
   ]
  },
  {
   "cell_type": "markdown",
   "id": "710f6556",
   "metadata": {},
   "source": [
    "#### LSTM for international airline passengers problem with regression framing"
   ]
  },
  {
   "cell_type": "code",
   "execution_count": 1,
   "id": "3f5e4d6c",
   "metadata": {},
   "outputs": [
    {
     "name": "stdout",
     "output_type": "stream",
     "text": [
      "Num GPUs Available:  1\n"
     ]
    }
   ],
   "source": [
    "# importing required libraries\n",
    "\n",
    "import numpy as np\n",
    "import matplotlib.pyplot as plt\n",
    "import pandas as pd\n",
    "import math\n",
    "\n",
    "import tensorflow as tf\n",
    "tf.config.list_physical_devices('GPU')\n",
    "\n",
    "from tensorflow.keras.models import Sequential\n",
    "from tensorflow.keras.layers import Dense\n",
    "from tensorflow.keras.layers import LSTM\n",
    "\n",
    "from sklearn.preprocessing import MinMaxScaler\n",
    "from sklearn.metrics import mean_squared_error\n",
    "\n",
    "\n",
    "# fix random seed for reproducibility\n",
    "np.random.seed(7)\n",
    "\n",
    "print(\"Num GPUs Available: \", len(tf.config.list_physical_devices('GPU')))"
   ]
  },
  {
   "cell_type": "code",
   "execution_count": 2,
   "id": "0f0b78b1",
   "metadata": {},
   "outputs": [],
   "source": [
    "# loading the dataset\n",
    "\n",
    "dataset_path = 'C:/DevelopmentPlayground/Datasets/international-airline-passengers.csv'\n",
    "\n",
    "dataframe = pd.read_csv(dataset_path, engine='python', skipfooter=3)"
   ]
  },
  {
   "cell_type": "code",
   "execution_count": 3,
   "id": "52c4d954",
   "metadata": {},
   "outputs": [
    {
     "data": {
      "text/html": [
       "<div>\n",
       "<style scoped>\n",
       "    .dataframe tbody tr th:only-of-type {\n",
       "        vertical-align: middle;\n",
       "    }\n",
       "\n",
       "    .dataframe tbody tr th {\n",
       "        vertical-align: top;\n",
       "    }\n",
       "\n",
       "    .dataframe thead th {\n",
       "        text-align: right;\n",
       "    }\n",
       "</style>\n",
       "<table border=\"1\" class=\"dataframe\">\n",
       "  <thead>\n",
       "    <tr style=\"text-align: right;\">\n",
       "      <th></th>\n",
       "      <th>Month</th>\n",
       "      <th>Passengers</th>\n",
       "    </tr>\n",
       "  </thead>\n",
       "  <tbody>\n",
       "    <tr>\n",
       "      <th>0</th>\n",
       "      <td>1949-01</td>\n",
       "      <td>112</td>\n",
       "    </tr>\n",
       "    <tr>\n",
       "      <th>1</th>\n",
       "      <td>1949-02</td>\n",
       "      <td>118</td>\n",
       "    </tr>\n",
       "    <tr>\n",
       "      <th>2</th>\n",
       "      <td>1949-03</td>\n",
       "      <td>132</td>\n",
       "    </tr>\n",
       "    <tr>\n",
       "      <th>3</th>\n",
       "      <td>1949-04</td>\n",
       "      <td>129</td>\n",
       "    </tr>\n",
       "    <tr>\n",
       "      <th>4</th>\n",
       "      <td>1949-05</td>\n",
       "      <td>121</td>\n",
       "    </tr>\n",
       "  </tbody>\n",
       "</table>\n",
       "</div>"
      ],
      "text/plain": [
       "     Month  Passengers\n",
       "0  1949-01         112\n",
       "1  1949-02         118\n",
       "2  1949-03         132\n",
       "3  1949-04         129\n",
       "4  1949-05         121"
      ]
     },
     "execution_count": 3,
     "metadata": {},
     "output_type": "execute_result"
    }
   ],
   "source": [
    "dataframe.head()"
   ]
  },
  {
   "cell_type": "code",
   "execution_count": 4,
   "id": "ee7dbb86",
   "metadata": {},
   "outputs": [
    {
     "data": {
      "text/html": [
       "<div>\n",
       "<style scoped>\n",
       "    .dataframe tbody tr th:only-of-type {\n",
       "        vertical-align: middle;\n",
       "    }\n",
       "\n",
       "    .dataframe tbody tr th {\n",
       "        vertical-align: top;\n",
       "    }\n",
       "\n",
       "    .dataframe thead th {\n",
       "        text-align: right;\n",
       "    }\n",
       "</style>\n",
       "<table border=\"1\" class=\"dataframe\">\n",
       "  <thead>\n",
       "    <tr style=\"text-align: right;\">\n",
       "      <th></th>\n",
       "      <th>Month</th>\n",
       "      <th>Passengers</th>\n",
       "    </tr>\n",
       "  </thead>\n",
       "  <tbody>\n",
       "    <tr>\n",
       "      <th>138</th>\n",
       "      <td>1960-07</td>\n",
       "      <td>622</td>\n",
       "    </tr>\n",
       "    <tr>\n",
       "      <th>139</th>\n",
       "      <td>1960-08</td>\n",
       "      <td>606</td>\n",
       "    </tr>\n",
       "    <tr>\n",
       "      <th>140</th>\n",
       "      <td>1960-09</td>\n",
       "      <td>508</td>\n",
       "    </tr>\n",
       "    <tr>\n",
       "      <th>141</th>\n",
       "      <td>1960-10</td>\n",
       "      <td>461</td>\n",
       "    </tr>\n",
       "    <tr>\n",
       "      <th>142</th>\n",
       "      <td>1960-11</td>\n",
       "      <td>390</td>\n",
       "    </tr>\n",
       "  </tbody>\n",
       "</table>\n",
       "</div>"
      ],
      "text/plain": [
       "       Month  Passengers\n",
       "138  1960-07         622\n",
       "139  1960-08         606\n",
       "140  1960-09         508\n",
       "141  1960-10         461\n",
       "142  1960-11         390"
      ]
     },
     "execution_count": 4,
     "metadata": {},
     "output_type": "execute_result"
    }
   ],
   "source": [
    "dataframe.tail()"
   ]
  },
  {
   "cell_type": "code",
   "execution_count": 5,
   "id": "59fd209a",
   "metadata": {},
   "outputs": [
    {
     "data": {
      "text/plain": [
       "array([[112],\n",
       "       [118],\n",
       "       [132],\n",
       "       [129],\n",
       "       [121]], dtype=int64)"
      ]
     },
     "execution_count": 5,
     "metadata": {},
     "output_type": "execute_result"
    }
   ],
   "source": [
    "# Reshaping the data either using array.reshape(-1, 1) if the data has a single feature\n",
    "# or  array.reshape(1, -1) if it contains a single sample\n",
    "dataset = dataframe[\"Passengers\"]\n",
    "\n",
    "dataset = np.array(dataset).reshape(-1, 1)\n",
    "\n",
    "dataset[:5] # selecting ist 5 rows"
   ]
  },
  {
   "cell_type": "code",
   "execution_count": 6,
   "id": "8df797de",
   "metadata": {},
   "outputs": [
    {
     "data": {
      "text/plain": [
       "array([[112.],\n",
       "       [118.],\n",
       "       [132.],\n",
       "       [129.],\n",
       "       [121.]], dtype=float32)"
      ]
     },
     "execution_count": 6,
     "metadata": {},
     "output_type": "execute_result"
    }
   ],
   "source": [
    "# converting int to float\n",
    "\n",
    "dataset = dataset.astype('float32')\n",
    "\n",
    "dataset[:5] # selecting ist 5 rows"
   ]
  },
  {
   "cell_type": "code",
   "execution_count": 7,
   "id": "aeb0f5b9",
   "metadata": {},
   "outputs": [],
   "source": [
    "# normalize the dataset - in ranage of (0, 1)\n",
    "\n",
    "scaler = MinMaxScaler(feature_range=(0, 1))\n",
    "dataset = scaler.fit_transform(dataset)"
   ]
  },
  {
   "cell_type": "code",
   "execution_count": 8,
   "id": "471cd5eb",
   "metadata": {},
   "outputs": [],
   "source": [
    "# Splitting the dataset ito train and test set\n",
    "\n",
    "train_size = int(len(dataset) * 0.67)\n",
    "test_size = len(dataset) - train_size\n",
    "\n",
    "train, test = dataset[0:train_size, :], dataset[train_size: len(dataset), :]"
   ]
  },
  {
   "cell_type": "code",
   "execution_count": 9,
   "id": "136b9941",
   "metadata": {},
   "outputs": [
    {
     "name": "stdout",
     "output_type": "stream",
     "text": [
      "train : 95\n",
      "test : 48\n"
     ]
    }
   ],
   "source": [
    "print('train :', len(train))\n",
    "print('test :', len(test))"
   ]
  },
  {
   "cell_type": "code",
   "execution_count": 10,
   "id": "7a1750a0",
   "metadata": {},
   "outputs": [],
   "source": [
    "# convert an array of values into a dataset matrix\n",
    "def create_dataset(dataset, look_back=1):\n",
    "    dataX, dataY = [], []\n",
    "    for i in range(len(dataset) - look_back - 1):\n",
    "        a = dataset[i: (i + look_back), 0]\n",
    "        dataX.append(a)\n",
    "        dataY.append(dataset[i + look_back, 0])\n",
    "        \n",
    "    return np.array(dataX), np.array(dataY)"
   ]
  },
  {
   "cell_type": "code",
   "execution_count": 11,
   "id": "db5c2848",
   "metadata": {},
   "outputs": [],
   "source": [
    "# reshape into X=t and y= t+1\n",
    "\n",
    "look_back = 3\n",
    "\n",
    "train_X, train_Y = create_dataset(train, look_back)\n",
    "test_X, test_Y = create_dataset(test, look_back)"
   ]
  },
  {
   "cell_type": "code",
   "execution_count": 12,
   "id": "6c9f7d4e",
   "metadata": {},
   "outputs": [
    {
     "name": "stdout",
     "output_type": "stream",
     "text": [
      "train_X : [[0.01544401 0.02702703 0.05405405]\n",
      " [0.02702703 0.05405405 0.04826255]\n",
      " [0.05405405 0.04826255 0.03281853]\n",
      " [0.04826255 0.03281853 0.05984557]\n",
      " [0.03281853 0.05984557 0.08494207]\n",
      " [0.05984557 0.08494207 0.08494207]\n",
      " [0.08494207 0.08494207 0.06177607]\n",
      " [0.08494207 0.06177607 0.02895753]\n",
      " [0.06177607 0.02895753 0.        ]\n",
      " [0.02895753 0.         0.02702703]\n",
      " [0.         0.02702703 0.02123553]\n",
      " [0.02702703 0.02123553 0.04247104]\n",
      " [0.02123553 0.04247104 0.07142857]\n",
      " [0.04247104 0.07142857 0.05984557]\n",
      " [0.07142857 0.05984557 0.04054055]\n",
      " [0.05984557 0.04054055 0.08687258]\n",
      " [0.04054055 0.08687258 0.12741312]\n",
      " [0.08687258 0.12741312 0.12741312]\n",
      " [0.12741312 0.12741312 0.10424709]\n",
      " [0.12741312 0.10424709 0.05598456]\n",
      " [0.10424709 0.05598456 0.01930502]\n",
      " [0.05598456 0.01930502 0.06949806]\n",
      " [0.01930502 0.06949806 0.07915059]\n",
      " [0.06949806 0.07915059 0.08880308]\n",
      " [0.07915059 0.08880308 0.14285713]\n",
      " [0.08880308 0.14285713 0.11389962]\n",
      " [0.14285713 0.11389962 0.13127413]\n",
      " [0.11389962 0.13127413 0.14285713]\n",
      " [0.13127413 0.14285713 0.18339768]\n",
      " [0.14285713 0.18339768 0.18339768]\n",
      " [0.18339768 0.18339768 0.15444016]\n",
      " [0.18339768 0.15444016 0.11196911]\n",
      " [0.15444016 0.11196911 0.08108109]\n",
      " [0.11196911 0.08108109 0.1196911 ]\n",
      " [0.08108109 0.1196911  0.12934363]\n",
      " [0.1196911  0.12934363 0.14671814]\n",
      " [0.12934363 0.14671814 0.17181468]\n",
      " [0.14671814 0.17181468 0.14864865]\n",
      " [0.17181468 0.14864865 0.15250966]\n",
      " [0.14864865 0.15250966 0.22007722]\n",
      " [0.15250966 0.22007722 0.24324325]\n",
      " [0.22007722 0.24324325 0.26640925]\n",
      " [0.24324325 0.26640925 0.2027027 ]\n",
      " [0.26640925 0.2027027  0.16795367]\n",
      " [0.2027027  0.16795367 0.13127413]\n",
      " [0.16795367 0.13127413 0.17374519]\n",
      " [0.13127413 0.17374519 0.17760617]\n",
      " [0.17374519 0.17760617 0.17760617]\n",
      " [0.17760617 0.17760617 0.25482625]\n",
      " [0.17760617 0.25482625 0.25289574]\n",
      " [0.25482625 0.25289574 0.24131274]\n",
      " [0.25289574 0.24131274 0.26833975]\n",
      " [0.24131274 0.26833975 0.3088803 ]\n",
      " [0.26833975 0.3088803  0.32432434]\n",
      " [0.3088803  0.32432434 0.25675675]\n",
      " [0.32432434 0.25675675 0.20656371]\n",
      " [0.25675675 0.20656371 0.14671814]\n",
      " [0.20656371 0.14671814 0.18725869]\n",
      " [0.14671814 0.18725869 0.19305018]\n",
      " [0.18725869 0.19305018 0.16216215]\n",
      " [0.19305018 0.16216215 0.25289574]\n",
      " [0.16216215 0.25289574 0.23745173]\n",
      " [0.25289574 0.23745173 0.25096524]\n",
      " [0.23745173 0.25096524 0.3088803 ]\n",
      " [0.25096524 0.3088803  0.38223937]\n",
      " [0.3088803  0.38223937 0.36486486]\n",
      " [0.38223937 0.36486486 0.2992278 ]\n",
      " [0.36486486 0.2992278  0.24131274]\n",
      " [0.2992278  0.24131274 0.1911197 ]\n",
      " [0.24131274 0.1911197  0.24131274]\n",
      " [0.1911197  0.24131274 0.26640925]\n",
      " [0.24131274 0.26640925 0.24903473]\n",
      " [0.26640925 0.24903473 0.31467178]\n",
      " [0.24903473 0.31467178 0.3185328 ]\n",
      " [0.31467178 0.3185328  0.32046333]\n",
      " [0.3185328  0.32046333 0.4073359 ]\n",
      " [0.32046333 0.4073359  0.5019305 ]\n",
      " [0.4073359  0.5019305  0.46911195]\n",
      " [0.5019305  0.46911195 0.40154442]\n",
      " [0.46911195 0.40154442 0.32818535]\n",
      " [0.40154442 0.32818535 0.25675675]\n",
      " [0.32818535 0.25675675 0.3359073 ]\n",
      " [0.25675675 0.3359073  0.34749034]\n",
      " [0.3359073  0.34749034 0.33397684]\n",
      " [0.34749034 0.33397684 0.41119692]\n",
      " [0.33397684 0.41119692 0.4034749 ]\n",
      " [0.41119692 0.4034749  0.4131274 ]\n",
      " [0.4034749  0.4131274  0.52123547]\n",
      " [0.4131274  0.52123547 0.5965251 ]\n",
      " [0.52123547 0.5965251  0.58108103]\n",
      " [0.5965251  0.58108103 0.484556  ]]\n"
     ]
    }
   ],
   "source": [
    "print('train_X :', train_X)"
   ]
  },
  {
   "cell_type": "code",
   "execution_count": 13,
   "id": "8ef253c3",
   "metadata": {},
   "outputs": [
    {
     "name": "stdout",
     "output_type": "stream",
     "text": [
      "train_Y : [0.04826255 0.03281853 0.05984557 0.08494207 0.08494207 0.06177607\n",
      " 0.02895753 0.         0.02702703 0.02123553 0.04247104 0.07142857\n",
      " 0.05984557 0.04054055 0.08687258 0.12741312 0.12741312 0.10424709\n",
      " 0.05598456 0.01930502 0.06949806 0.07915059 0.08880308 0.14285713\n",
      " 0.11389962 0.13127413 0.14285713 0.18339768 0.18339768 0.15444016\n",
      " 0.11196911 0.08108109 0.1196911  0.12934363 0.14671814 0.17181468\n",
      " 0.14864865 0.15250966 0.22007722 0.24324325 0.26640925 0.2027027\n",
      " 0.16795367 0.13127413 0.17374519 0.17760617 0.17760617 0.25482625\n",
      " 0.25289574 0.24131274 0.26833975 0.3088803  0.32432434 0.25675675\n",
      " 0.20656371 0.14671814 0.18725869 0.19305018 0.16216215 0.25289574\n",
      " 0.23745173 0.25096524 0.3088803  0.38223937 0.36486486 0.2992278\n",
      " 0.24131274 0.1911197  0.24131274 0.26640925 0.24903473 0.31467178\n",
      " 0.3185328  0.32046333 0.4073359  0.5019305  0.46911195 0.40154442\n",
      " 0.32818535 0.25675675 0.3359073  0.34749034 0.33397684 0.41119692\n",
      " 0.4034749  0.4131274  0.52123547 0.5965251  0.58108103 0.484556\n",
      " 0.3899614 ]\n"
     ]
    }
   ],
   "source": [
    "print('train_Y :', train_Y)"
   ]
  },
  {
   "cell_type": "code",
   "execution_count": 14,
   "id": "b96129d3",
   "metadata": {},
   "outputs": [
    {
     "name": "stdout",
     "output_type": "stream",
     "text": [
      "test_X : [[0.3899614  0.4073359  0.3803089 ]\n",
      " [0.4073359  0.3803089  0.48648646]\n",
      " [0.3803089  0.48648646 0.47104248]\n",
      " [0.48648646 0.47104248 0.484556  ]\n",
      " [0.47104248 0.484556   0.6138996 ]\n",
      " [0.484556   0.6138996  0.6969112 ]\n",
      " [0.6138996  0.6969112  0.70077217]\n",
      " [0.6969112  0.70077217 0.57915056]\n",
      " [0.70077217 0.57915056 0.46911195]\n",
      " [0.57915056 0.46911195 0.38803086]\n",
      " [0.46911195 0.38803086 0.44787642]\n",
      " [0.38803086 0.44787642 0.45559844]\n",
      " [0.44787642 0.45559844 0.4131274 ]\n",
      " [0.45559844 0.4131274  0.4980695 ]\n",
      " [0.4131274  0.4980695  0.47104248]\n",
      " [0.4980695  0.47104248 0.49999997]\n",
      " [0.47104248 0.49999997 0.6389961 ]\n",
      " [0.49999997 0.6389961  0.7471043 ]\n",
      " [0.6389961  0.7471043  0.7741313 ]\n",
      " [0.7471043  0.7741313  0.57915056]\n",
      " [0.7741313  0.57915056 0.492278  ]\n",
      " [0.57915056 0.492278   0.3976834 ]\n",
      " [0.492278   0.3976834  0.44980696]\n",
      " [0.3976834  0.44980696 0.49420848]\n",
      " [0.44980696 0.49420848 0.45945945]\n",
      " [0.49420848 0.45945945 0.5830116 ]\n",
      " [0.45945945 0.5830116  0.5637065 ]\n",
      " [0.5830116  0.5637065  0.61003864]\n",
      " [0.5637065  0.61003864 0.71042466]\n",
      " [0.61003864 0.71042466 0.8571429 ]\n",
      " [0.71042466 0.8571429  0.8783784 ]\n",
      " [0.8571429  0.8783784  0.69305015]\n",
      " [0.8783784  0.69305015 0.5849421 ]\n",
      " [0.69305015 0.5849421  0.4980695 ]\n",
      " [0.5849421  0.4980695  0.58108103]\n",
      " [0.4980695  0.58108103 0.6042471 ]\n",
      " [0.58108103 0.6042471  0.554054  ]\n",
      " [0.6042471  0.554054   0.60810804]\n",
      " [0.554054   0.60810804 0.6891892 ]\n",
      " [0.60810804 0.6891892  0.71042466]\n",
      " [0.6891892  0.71042466 0.8320464 ]\n",
      " [0.71042466 0.8320464  1.        ]\n",
      " [0.8320464  1.         0.96911204]\n",
      " [1.         0.96911204 0.7799227 ]]\n"
     ]
    }
   ],
   "source": [
    "print('test_X :', test_X)"
   ]
  },
  {
   "cell_type": "code",
   "execution_count": 15,
   "id": "16ca54cd",
   "metadata": {},
   "outputs": [
    {
     "name": "stdout",
     "output_type": "stream",
     "text": [
      "test_Y : [0.48648646 0.47104248 0.484556   0.6138996  0.6969112  0.70077217\n",
      " 0.57915056 0.46911195 0.38803086 0.44787642 0.45559844 0.4131274\n",
      " 0.4980695  0.47104248 0.49999997 0.6389961  0.7471043  0.7741313\n",
      " 0.57915056 0.492278   0.3976834  0.44980696 0.49420848 0.45945945\n",
      " 0.5830116  0.5637065  0.61003864 0.71042466 0.8571429  0.8783784\n",
      " 0.69305015 0.5849421  0.4980695  0.58108103 0.6042471  0.554054\n",
      " 0.60810804 0.6891892  0.71042466 0.8320464  1.         0.96911204\n",
      " 0.7799227  0.6891892 ]\n"
     ]
    }
   ],
   "source": [
    "print('test_Y :', test_Y)"
   ]
  },
  {
   "cell_type": "code",
   "execution_count": 16,
   "id": "fa2f6de9",
   "metadata": {},
   "outputs": [
    {
     "ename": "SyntaxError",
     "evalue": "invalid syntax (Temp/ipykernel_9696/2182969871.py, line 7)",
     "output_type": "error",
     "traceback": [
      "\u001b[1;36m  File \u001b[1;32m\"C:\\Users\\gopal\\AppData\\Local\\Temp/ipykernel_9696/2182969871.py\"\u001b[1;36m, line \u001b[1;32m7\u001b[0m\n\u001b[1;33m    test_X = np.reshape(test_X, (test_X.shape[0], 1test_X.shape[1], 1))\u001b[0m\n\u001b[1;37m                                                   ^\u001b[0m\n\u001b[1;31mSyntaxError\u001b[0m\u001b[1;31m:\u001b[0m invalid syntax\n"
     ]
    }
   ],
   "source": [
    "# The LSTM network expects the input data (X) to be provided with a specific array structure in\n",
    "# the form of: [samples, time steps, features].\n",
    "\n",
    "# reshape input to be [samples, time steps, features]\n",
    "\n",
    "train_X = np.reshape(train_X, (train_X.shape[0], train_X.shape[1], 1))\n",
    "test_X = np.reshape(test_X, (test_X.shape[0], test_X.shape[1], 1))\n"
   ]
  },
  {
   "cell_type": "code",
   "execution_count": null,
   "id": "81e4bdfc",
   "metadata": {},
   "outputs": [],
   "source": [
    "print('train_X :', train_X[0:5]) # checking Ist 5 rows\n",
    "print('test_X :', test_X[0:5]) # checking Ist 5 rows"
   ]
  },
  {
   "cell_type": "code",
   "execution_count": null,
   "id": "5e17b8f8",
   "metadata": {},
   "outputs": [],
   "source": [
    "# create and fit the one to one LSTM network\n",
    "\n",
    "# LSTM network has a visible layer with 1 input i.e. input_dim=look_back, \n",
    "# a hidden layer with 4 LSTM blocks or Neurons \n",
    "# with default 'tanh' activation and 'sigmoid' being default recurrent_activation\n",
    "# a fully connected layer (Dense) with single neuron.\n",
    "# batch_input_shape() = This is useful for specifying a fixed batch size (e.g. with stateful RNNs)\n",
    "\n",
    "# batch_input_shape() receive a tuple (round bracket with 3 values): (batchsize, timestep, input_dim)\n",
    "# I translate it to: (number_of_rows_to_process_each_loop, the_time_interval_for_next_move(e.g. per day, per month), column)\n",
    "\n",
    "batch_size = 1\n",
    "model = Sequential()\n",
    "model.add(LSTM(units=4, batch_input_shape=(batch_size, look_back, 1), stateful=True, activation='tanh', recurrent_activation='sigmoid')) \n",
    "model.add(Dense(1))\n",
    "model.compile(loss='mean_squared_error', optimizer='rmsprop')\n",
    "\n"
   ]
  },
  {
   "cell_type": "code",
   "execution_count": null,
   "id": "f219bea7",
   "metadata": {},
   "outputs": [],
   "source": [
    "# fit the model\n",
    "import datetime\n",
    "start = datetime.datetime.now()\n",
    "\n",
    "for i in range(200):\n",
    "    model.fit(train_X, train_Y, epochs=10, batch_size=batch_size, verbose=1, shuffle=False)\n",
    "    model.reset_states()\n",
    "    \n",
    "stop = datetime.datetime.now()\n",
    "print(\"Total time taken : \", str(stop - start))"
   ]
  },
  {
   "cell_type": "code",
   "execution_count": null,
   "id": "44218455",
   "metadata": {},
   "outputs": [],
   "source": [
    "# make predictions\n",
    "\n",
    "train_predict = model.predict(train_X)\n",
    "test_predict = model.predict(test_X)"
   ]
  },
  {
   "cell_type": "code",
   "execution_count": null,
   "id": "eaf022e3",
   "metadata": {},
   "outputs": [],
   "source": [
    "# invert the prediction, because we have scaled the data using MinMaxScaler\n",
    "\n",
    "train_predict = scaler.inverse_transform(train_predict)\n",
    "\n",
    "train_Y = scaler.inverse_transform([train_Y])\n",
    "\n",
    "test_predict = scaler.inverse_transform(test_predict)\n",
    "\n",
    "test_Y = scaler.inverse_transform([test_Y])\n"
   ]
  },
  {
   "cell_type": "code",
   "execution_count": null,
   "id": "967bd178",
   "metadata": {},
   "outputs": [],
   "source": [
    "# calculate the root mean squared error\n",
    "\n",
    "train_score = math.sqrt(mean_squared_error(train_Y[0], train_predict[:, 0]))\n",
    "\n",
    "print('Train Score : %.2f RMSE' %(train_score))"
   ]
  },
  {
   "cell_type": "code",
   "execution_count": null,
   "id": "88da8e11",
   "metadata": {},
   "outputs": [],
   "source": [
    "test_score = math.sqrt(mean_squared_error(test_Y[0], test_predict[:, 0]))\n",
    "\n",
    "print('Test Score : %.2f RMSE' %(test_score))"
   ]
  },
  {
   "cell_type": "code",
   "execution_count": null,
   "id": "ab212a38",
   "metadata": {},
   "outputs": [],
   "source": [
    "# shift train predictions for plotting\n",
    "\n",
    "trainPredictPlot = np.empty_like(dataset)\n",
    "trainPredictPlot[:, :] = np.nan\n",
    "trainPredictPlot[look_back:len(train_predict) + look_back, :] = train_predict"
   ]
  },
  {
   "cell_type": "code",
   "execution_count": null,
   "id": "d6abb4c4",
   "metadata": {},
   "outputs": [],
   "source": [
    "# shift test predictions for plotting\n",
    "\n",
    "testPredictPlot = np.empty_like(dataset)\n",
    "testPredictPlot[:, :] = np.nan\n",
    "testPredictPlot[len(train_predict) + (look_back * 2) + 1:len(dataset) - 1, :] = test_predict"
   ]
  },
  {
   "cell_type": "code",
   "execution_count": null,
   "id": "1cabaa5f",
   "metadata": {},
   "outputs": [],
   "source": [
    "# plot baseline and predictions\n",
    "\n",
    "plt.plot(scaler.inverse_transform(dataset))\n",
    "plt.plot(trainPredictPlot)\n",
    "plt.plot(testPredictPlot)\n",
    "plt.show()"
   ]
  },
  {
   "cell_type": "markdown",
   "id": "7ee6e065",
   "metadata": {},
   "source": [
    "<span> The model has an average error of 22.88 i.e., 23 passenges (in thousands) on training dataset </span>\n",
    "\n",
    "<span> The model has an average error of 49.62 i.e., 50 passenges (in thousands) on test dataset </span>"
   ]
  },
  {
   "cell_type": "code",
   "execution_count": null,
   "id": "614e1557",
   "metadata": {},
   "outputs": [],
   "source": []
  }
 ],
 "metadata": {
  "kernelspec": {
   "display_name": "tf-gpu-26",
   "language": "python",
   "name": "tf-gpu-26"
  },
  "language_info": {
   "codemirror_mode": {
    "name": "ipython",
    "version": 3
   },
   "file_extension": ".py",
   "mimetype": "text/x-python",
   "name": "python",
   "nbconvert_exporter": "python",
   "pygments_lexer": "ipython3",
   "version": "3.9.7"
  }
 },
 "nbformat": 4,
 "nbformat_minor": 5
}
